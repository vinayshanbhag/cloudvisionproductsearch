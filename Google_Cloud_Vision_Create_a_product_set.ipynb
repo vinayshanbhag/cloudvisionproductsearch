{
  "nbformat": 4,
  "nbformat_minor": 0,
  "metadata": {
    "colab": {
      "name": "Google Cloud Vision - Create a product set.ipynb",
      "provenance": [],
      "collapsed_sections": [],
      "authorship_tag": "ABX9TyM3aRuMFWNSRSqkEXtEqZX0",
      "include_colab_link": true
    },
    "kernelspec": {
      "name": "python3",
      "display_name": "Python 3"
    },
    "language_info": {
      "name": "python"
    }
  },
  "cells": [
    {
      "cell_type": "markdown",
      "metadata": {
        "id": "view-in-github",
        "colab_type": "text"
      },
      "source": [
        "<a href=\"https://colab.research.google.com/github/vinayshanbhag/cloudvisionproductsearch/blob/main/Google_Cloud_Vision_Create_a_product_set.ipynb\" target=\"_parent\"><img src=\"https://colab.research.google.com/assets/colab-badge.svg\" alt=\"Open In Colab\"/></a>"
      ]
    },
    {
      "cell_type": "markdown",
      "metadata": {
        "id": "Ftik42WO8FXJ"
      },
      "source": [
        "# Introduction\n",
        "\n",
        "Google Vision API Product Search allows retailers to create products, each containing reference images that visually describe the product from a set of viewpoints. Retailers can then add these products to product sets. \n",
        "\n",
        "This Notebook demonstrates how to create and manage product sets for use with the Google Cloud Vision Product Search API.\n",
        "\n",
        "After a product set is created users can query the product set with their own images, Vision API Product Search applies machine learning to compare the product in the user's query image with the images in the retailer's product set, and then returns a ranked list of visually and semantically similar results. This is covered in a separate Notebook [<sup>[Google Cloud Vision Product Search.ipynb]</sup>](https://github.com/vinayshanbhag/cloudvisionproductsearch/blob/main/Google_Cloud_Vision_Product_Search.ipynb)\n",
        "\n",
        "\n"
      ]
    },
    {
      "cell_type": "markdown",
      "metadata": {
        "id": "x3XWlFuEYaRW"
      },
      "source": [
        "# 1. Before you begin\n",
        "1. Create a project and service account [<sup>[1]</sup>](https://cloud.google.com/vision/product-search/docs/before-you-begin)\n",
        "2. Create a Google Cloud Storage bucket [<sup>[2]</sup>](https://cloud.google.com/storage/docs/creating-buckets)\n",
        "3. Grant service account view access to this bucket [<sup>[3]</sup>](https://cloud.google.com/storage/docs/access-control)\n",
        "4. Upload images files to the bucket"
      ]
    },
    {
      "cell_type": "markdown",
      "metadata": {
        "id": "TOxRo7DquBXU"
      },
      "source": [
        "# 2. Bulk Import\n",
        "\n",
        "Product sets can be imported in bulk using a CSV file with following values (no header) [<sup>[4]</sup>](https://cloud.google.com/vision/product-search/docs/csv-format)\n",
        "* image-uri: Google cloud storage uri\n",
        "* image-id: Unique identifier for image\n",
        "* product-set-id: A unique identifier for the product set to import the images into\n",
        "* product-id: A product-id can be associated with multiple reference images.\n",
        "* product-category: One of {homegoods-v2 | apparel-v2 | toys-v2 | packagedgoods-v1 | general-v1}\n",
        "* product-display-name: The product name\n",
        "* labels: labels if any\n",
        "* bounding-poly: Bounding polygon coordinates of the product in image\n",
        "\n",
        "A sample CSV file..."
      ]
    },
    {
      "cell_type": "code",
      "metadata": {
        "colab": {
          "base_uri": "https://localhost:8080/",
          "height": 204
        },
        "id": "J0VZPT4xX8ye",
        "outputId": "5dbfcd1f-0fc1-4c5b-bfe1-0b8ec88493e6"
      },
      "source": [
        "df = pd.read_csv('https://raw.githubusercontent.com/vinayshanbhag/images/main/products.csv',header=None, names=['image-uri','image-id','product-set-id','product-id','product-category','product-display-name','labels','bounding-poly']).fillna(\"\")\n",
        "df.sample(5)"
      ],
      "execution_count": 10,
      "outputs": [
        {
          "output_type": "execute_result",
          "data": {
            "text/html": [
              "<div>\n",
              "<style scoped>\n",
              "    .dataframe tbody tr th:only-of-type {\n",
              "        vertical-align: middle;\n",
              "    }\n",
              "\n",
              "    .dataframe tbody tr th {\n",
              "        vertical-align: top;\n",
              "    }\n",
              "\n",
              "    .dataframe thead th {\n",
              "        text-align: right;\n",
              "    }\n",
              "</style>\n",
              "<table border=\"1\" class=\"dataframe\">\n",
              "  <thead>\n",
              "    <tr style=\"text-align: right;\">\n",
              "      <th></th>\n",
              "      <th>image-uri</th>\n",
              "      <th>image-id</th>\n",
              "      <th>product-set-id</th>\n",
              "      <th>product-id</th>\n",
              "      <th>product-category</th>\n",
              "      <th>product-display-name</th>\n",
              "      <th>labels</th>\n",
              "      <th>bounding-poly</th>\n",
              "    </tr>\n",
              "  </thead>\n",
              "  <tbody>\n",
              "    <tr>\n",
              "      <th>47</th>\n",
              "      <td>gs://cvproducts/galaxy_s20_ultra_5g_1.jpg</td>\n",
              "      <td>galaxy_s20_ultra_5g_1</td>\n",
              "      <td>smartdevices</td>\n",
              "      <td>galaxy_s20_ultra_5g</td>\n",
              "      <td>general-v1</td>\n",
              "      <td>Galaxy S20 Ultra 5G</td>\n",
              "      <td></td>\n",
              "      <td></td>\n",
              "    </tr>\n",
              "    <tr>\n",
              "      <th>37</th>\n",
              "      <td>gs://cvproducts/nest_doorbell_battery_1.jpg</td>\n",
              "      <td>nest_doorbell_battery_1</td>\n",
              "      <td>smartdevices</td>\n",
              "      <td>nest_doorbell_battery</td>\n",
              "      <td>general-v1</td>\n",
              "      <td>Nest Doorbell Battery</td>\n",
              "      <td></td>\n",
              "      <td></td>\n",
              "    </tr>\n",
              "    <tr>\n",
              "      <th>68</th>\n",
              "      <td>gs://cvproducts/galaxy_s21_5g_1.jpg</td>\n",
              "      <td>galaxy_s21_5g_1</td>\n",
              "      <td>smartdevices</td>\n",
              "      <td>galaxy_s21_5g</td>\n",
              "      <td>general-v1</td>\n",
              "      <td>Galaxy S21 5G</td>\n",
              "      <td></td>\n",
              "      <td></td>\n",
              "    </tr>\n",
              "    <tr>\n",
              "      <th>3</th>\n",
              "      <td>gs://cvproducts/galaxy_s20_1.jpg</td>\n",
              "      <td>galaxy_s20_1</td>\n",
              "      <td>smartdevices</td>\n",
              "      <td>galaxy_s20</td>\n",
              "      <td>general-v1</td>\n",
              "      <td>Galaxy S20</td>\n",
              "      <td></td>\n",
              "      <td></td>\n",
              "    </tr>\n",
              "    <tr>\n",
              "      <th>62</th>\n",
              "      <td>gs://cvproducts/apple_watch_series_3_2.jpg</td>\n",
              "      <td>apple_watch_series_3_2</td>\n",
              "      <td>smartdevices</td>\n",
              "      <td>apple_watch_series_3</td>\n",
              "      <td>general-v1</td>\n",
              "      <td>Apple Watch Series 3</td>\n",
              "      <td></td>\n",
              "      <td></td>\n",
              "    </tr>\n",
              "  </tbody>\n",
              "</table>\n",
              "</div>"
            ],
            "text/plain": [
              "                                      image-uri  ... bounding-poly\n",
              "47    gs://cvproducts/galaxy_s20_ultra_5g_1.jpg  ...              \n",
              "37  gs://cvproducts/nest_doorbell_battery_1.jpg  ...              \n",
              "68          gs://cvproducts/galaxy_s21_5g_1.jpg  ...              \n",
              "3              gs://cvproducts/galaxy_s20_1.jpg  ...              \n",
              "62   gs://cvproducts/apple_watch_series_3_2.jpg  ...              \n",
              "\n",
              "[5 rows x 8 columns]"
            ]
          },
          "metadata": {},
          "execution_count": 10
        }
      ]
    },
    {
      "cell_type": "markdown",
      "metadata": {
        "id": "YOPKlqEq6wnC"
      },
      "source": [
        "This CSV import file must be uploaded to a Google Cloud Storage bucket."
      ]
    },
    {
      "cell_type": "markdown",
      "metadata": {
        "id": "MoA7b_GnyK3A"
      },
      "source": [
        "# 3. Installation\n",
        "Install Google Cloud Vision packages required to create and manage product sets.\n",
        "\n",
        "`pip3 install -U pip google-cloud-vision`\n",
        "\n",
        "Restart kernel, if prompted."
      ]
    },
    {
      "cell_type": "code",
      "metadata": {
        "colab": {
          "base_uri": "https://localhost:8080/",
          "height": 1000
        },
        "id": "e8X-j4a2yJRq",
        "outputId": "8cdd5d77-415c-434b-c2da-fb453291aa37"
      },
      "source": [
        "#install google cloud vision\n",
        "!pip3 install -U pip google-cloud-vision"
      ],
      "execution_count": 12,
      "outputs": [
        {
          "output_type": "stream",
          "name": "stdout",
          "text": [
            "Requirement already satisfied: pip in /usr/local/lib/python3.7/dist-packages (21.1.3)\n",
            "Collecting pip\n",
            "  Downloading pip-21.3.1-py3-none-any.whl (1.7 MB)\n",
            "\u001b[K     |████████████████████████████████| 1.7 MB 35.0 MB/s \n",
            "\u001b[?25hCollecting google-cloud-vision\n",
            "  Downloading google_cloud_vision-2.6.2-py2.py3-none-any.whl (370 kB)\n",
            "\u001b[K     |████████████████████████████████| 370 kB 59.2 MB/s \n",
            "\u001b[?25hCollecting proto-plus>=1.15.0\n",
            "  Downloading proto_plus-1.19.8-py3-none-any.whl (45 kB)\n",
            "\u001b[K     |████████████████████████████████| 45 kB 3.7 MB/s \n",
            "\u001b[?25hCollecting google-api-core[grpc]<3.0.0dev,>=1.28.0\n",
            "  Downloading google_api_core-2.2.2-py2.py3-none-any.whl (95 kB)\n",
            "\u001b[K     |████████████████████████████████| 95 kB 5.2 MB/s \n",
            "\u001b[?25hRequirement already satisfied: googleapis-common-protos<2.0dev,>=1.52.0 in /usr/local/lib/python3.7/dist-packages (from google-api-core[grpc]<3.0.0dev,>=1.28.0->google-cloud-vision) (1.53.0)\n",
            "Requirement already satisfied: google-auth<3.0dev,>=1.25.0 in /usr/local/lib/python3.7/dist-packages (from google-api-core[grpc]<3.0.0dev,>=1.28.0->google-cloud-vision) (1.35.0)\n",
            "Requirement already satisfied: setuptools>=40.3.0 in /usr/local/lib/python3.7/dist-packages (from google-api-core[grpc]<3.0.0dev,>=1.28.0->google-cloud-vision) (57.4.0)\n",
            "Requirement already satisfied: protobuf>=3.12.0 in /usr/local/lib/python3.7/dist-packages (from google-api-core[grpc]<3.0.0dev,>=1.28.0->google-cloud-vision) (3.17.3)\n",
            "Requirement already satisfied: requests<3.0.0dev,>=2.18.0 in /usr/local/lib/python3.7/dist-packages (from google-api-core[grpc]<3.0.0dev,>=1.28.0->google-cloud-vision) (2.23.0)\n",
            "Collecting grpcio-status<2.0dev,>=1.33.2\n",
            "  Downloading grpcio_status-1.41.1-py3-none-any.whl (9.2 kB)\n",
            "Requirement already satisfied: grpcio<2.0dev,>=1.33.2 in /usr/local/lib/python3.7/dist-packages (from google-api-core[grpc]<3.0.0dev,>=1.28.0->google-cloud-vision) (1.41.1)\n",
            "Requirement already satisfied: pyasn1-modules>=0.2.1 in /usr/local/lib/python3.7/dist-packages (from google-auth<3.0dev,>=1.25.0->google-api-core[grpc]<3.0.0dev,>=1.28.0->google-cloud-vision) (0.2.8)\n",
            "Requirement already satisfied: six>=1.9.0 in /usr/local/lib/python3.7/dist-packages (from google-auth<3.0dev,>=1.25.0->google-api-core[grpc]<3.0.0dev,>=1.28.0->google-cloud-vision) (1.15.0)\n",
            "Requirement already satisfied: cachetools<5.0,>=2.0.0 in /usr/local/lib/python3.7/dist-packages (from google-auth<3.0dev,>=1.25.0->google-api-core[grpc]<3.0.0dev,>=1.28.0->google-cloud-vision) (4.2.4)\n",
            "Requirement already satisfied: rsa<5,>=3.1.4 in /usr/local/lib/python3.7/dist-packages (from google-auth<3.0dev,>=1.25.0->google-api-core[grpc]<3.0.0dev,>=1.28.0->google-cloud-vision) (4.7.2)\n",
            "Collecting protobuf>=3.12.0\n",
            "  Downloading protobuf-3.19.1-cp37-cp37m-manylinux_2_17_x86_64.manylinux2014_x86_64.whl (1.1 MB)\n",
            "\u001b[K     |████████████████████████████████| 1.1 MB 44.3 MB/s \n",
            "\u001b[?25hRequirement already satisfied: pyasn1<0.5.0,>=0.4.6 in /usr/local/lib/python3.7/dist-packages (from pyasn1-modules>=0.2.1->google-auth<3.0dev,>=1.25.0->google-api-core[grpc]<3.0.0dev,>=1.28.0->google-cloud-vision) (0.4.8)\n",
            "Requirement already satisfied: idna<3,>=2.5 in /usr/local/lib/python3.7/dist-packages (from requests<3.0.0dev,>=2.18.0->google-api-core[grpc]<3.0.0dev,>=1.28.0->google-cloud-vision) (2.10)\n",
            "Requirement already satisfied: chardet<4,>=3.0.2 in /usr/local/lib/python3.7/dist-packages (from requests<3.0.0dev,>=2.18.0->google-api-core[grpc]<3.0.0dev,>=1.28.0->google-cloud-vision) (3.0.4)\n",
            "Requirement already satisfied: urllib3!=1.25.0,!=1.25.1,<1.26,>=1.21.1 in /usr/local/lib/python3.7/dist-packages (from requests<3.0.0dev,>=2.18.0->google-api-core[grpc]<3.0.0dev,>=1.28.0->google-cloud-vision) (1.24.3)\n",
            "Requirement already satisfied: certifi>=2017.4.17 in /usr/local/lib/python3.7/dist-packages (from requests<3.0.0dev,>=2.18.0->google-api-core[grpc]<3.0.0dev,>=1.28.0->google-cloud-vision) (2021.10.8)\n",
            "Installing collected packages: protobuf, grpcio-status, google-api-core, proto-plus, pip, google-cloud-vision\n",
            "  Attempting uninstall: protobuf\n",
            "    Found existing installation: protobuf 3.17.3\n",
            "    Uninstalling protobuf-3.17.3:\n",
            "      Successfully uninstalled protobuf-3.17.3\n",
            "  Attempting uninstall: google-api-core\n",
            "    Found existing installation: google-api-core 1.26.3\n",
            "    Uninstalling google-api-core-1.26.3:\n",
            "      Successfully uninstalled google-api-core-1.26.3\n",
            "  Attempting uninstall: pip\n",
            "    Found existing installation: pip 21.1.3\n",
            "    Uninstalling pip-21.1.3:\n",
            "      Successfully uninstalled pip-21.1.3\n",
            "\u001b[31mERROR: pip's dependency resolver does not currently take into account all the packages that are installed. This behaviour is the source of the following dependency conflicts.\n",
            "google-cloud-translate 1.5.0 requires google-api-core[grpc]<2.0.0dev,>=1.6.0, but you have google-api-core 2.2.2 which is incompatible.\n",
            "google-cloud-language 1.2.0 requires google-api-core[grpc]<2.0.0dev,>=1.6.0, but you have google-api-core 2.2.2 which is incompatible.\n",
            "google-cloud-firestore 1.7.0 requires google-api-core[grpc]<2.0.0dev,>=1.14.0, but you have google-api-core 2.2.2 which is incompatible.\n",
            "google-cloud-datastore 1.8.0 requires google-api-core[grpc]<2.0.0dev,>=1.6.0, but you have google-api-core 2.2.2 which is incompatible.\n",
            "google-cloud-core 1.0.3 requires google-api-core<2.0.0dev,>=1.14.0, but you have google-api-core 2.2.2 which is incompatible.\n",
            "google-cloud-bigquery-storage 1.1.0 requires google-api-core[grpc]<2.0.0dev,>=1.14.0, but you have google-api-core 2.2.2 which is incompatible.\n",
            "google-api-python-client 1.12.8 requires google-api-core<2dev,>=1.21.0, but you have google-api-core 2.2.2 which is incompatible.\n",
            "firebase-admin 4.4.0 requires google-api-core[grpc]<2.0.0dev,>=1.14.0; platform_python_implementation != \"PyPy\", but you have google-api-core 2.2.2 which is incompatible.\u001b[0m\n",
            "Successfully installed google-api-core-2.2.2 google-cloud-vision-2.6.2 grpcio-status-1.41.1 pip-21.3.1 proto-plus-1.19.8 protobuf-3.19.1\n"
          ]
        },
        {
          "output_type": "display_data",
          "data": {
            "application/vnd.colab-display-data+json": {
              "pip_warning": {
                "packages": [
                  "google"
                ]
              }
            }
          },
          "metadata": {}
        }
      ]
    },
    {
      "cell_type": "markdown",
      "metadata": {
        "id": "vnTCEF4yzFj5"
      },
      "source": [
        "# 4. Configure credentials\n",
        "\n",
        "Upload application credentials (key.json) file and set `GOOGLE_APPLICATION_CREDENTIALS` environment variable to point to that file."
      ]
    },
    {
      "cell_type": "code",
      "metadata": {
        "id": "tspZUuexYAqt"
      },
      "source": [
        "import google.cloud.vision\n",
        "import os\n",
        "os.environ[\"GOOGLE_APPLICATION_CREDENTIALS\"]=\"/content/key.json\""
      ],
      "execution_count": 11,
      "outputs": []
    },
    {
      "cell_type": "markdown",
      "metadata": {
        "id": "oNIDMOIczPPe"
      },
      "source": [
        "# 5. Create a product set\n",
        "\n",
        "To create a new product set, we need-\n",
        "* project_id: Id of the project (created in 1.1)\n",
        "* location: A compute region name.e.g.'us-west1' (created in 1.1)\n",
        "* product_set_id: Id of the product set. \n",
        "* product_set_display_name: Display name of the product set"
      ]
    },
    {
      "cell_type": "code",
      "metadata": {
        "id": "i6K4wIvKYC21"
      },
      "source": [
        "from google.cloud import vision\n",
        "\n",
        "def create_product_set(\n",
        "        project_id, location, product_set_id, product_set_display_name):\n",
        "    \"\"\"Create a product set.\n",
        "    Args:\n",
        "        project_id: Id of the project.\n",
        "        location: A compute region name.\n",
        "        product_set_id: Id of the product set.\n",
        "        product_set_display_name: Display name of the product set.\n",
        "    \"\"\"\n",
        "    client = vision.ProductSearchClient()\n",
        "\n",
        "    # A resource that represents Google Cloud Platform location.\n",
        "    location_path = f\"projects/{project_id}/locations/{location}\"\n",
        "\n",
        "    # Create a product set with the product set specification in the region.\n",
        "    product_set = vision.ProductSet(\n",
        "            display_name=product_set_display_name)\n",
        "\n",
        "    # The response is the product set with `name` populated.\n",
        "    response = client.create_product_set(\n",
        "        parent=location_path,\n",
        "        product_set=product_set,\n",
        "        product_set_id=product_set_id)\n",
        "\n",
        "    # Display the product set information.\n",
        "    print('Product set name: {}'.format(response.name))"
      ],
      "execution_count": 2,
      "outputs": []
    },
    {
      "cell_type": "code",
      "metadata": {
        "id": "fz-fQA9Qzq2P"
      },
      "source": [
        "#create_product_set('cvproductsearch','us-west1','smartdevices','Smart Devices')"
      ],
      "execution_count": 3,
      "outputs": []
    },
    {
      "cell_type": "markdown",
      "metadata": {
        "id": "3YgyeK_azz8_"
      },
      "source": [
        "# 6. Import product sets from CSV\n",
        "\n",
        "* Bulk import CSV file must be formatted as described in 2.\n",
        "* The file must be in a Google cloud storage bucket, and that storage bucket must be accessible to the service account credentials in key.json\n",
        "* All image files referenced in the CSV must be in a Google cloud storage bucket, and that storage bucket must be accessible to the service account credentials in `key.json`\n",
        "* To import products from the CSV, we need project_id, location and Google cloud storage uri for the CSV import file\n",
        "\n",
        "After product sets are imported, it takes up to 30 minutes for these products to be indexed. These products will not show up in user queries, until they are indexed. "
      ]
    },
    {
      "cell_type": "code",
      "metadata": {
        "id": "DUX9L2w8zx6v"
      },
      "source": [
        "def import_product_sets(project_id, location, gcs_uri):\n",
        "    \"\"\"Import images of different products in the product set.\n",
        "    Args:\n",
        "        project_id: Id of the project.\n",
        "        location: A compute region name.\n",
        "        gcs_uri: Google Cloud Storage URI.\n",
        "            Target files must be in Product Search CSV format.\n",
        "    \"\"\"\n",
        "    client = vision.ProductSearchClient()\n",
        "\n",
        "    # A resource that represents Google Cloud Platform location.\n",
        "    location_path = f\"projects/{project_id}/locations/{location}\"\n",
        "\n",
        "    # Set the input configuration along with Google Cloud Storage URI\n",
        "    gcs_source = vision.ImportProductSetsGcsSource(\n",
        "        csv_file_uri=gcs_uri)\n",
        "    input_config = vision.ImportProductSetsInputConfig(\n",
        "        gcs_source=gcs_source)\n",
        "\n",
        "    # Import the product sets from the input URI.\n",
        "    response = client.import_product_sets(\n",
        "        parent=location_path, input_config=input_config)\n",
        "\n",
        "    print('Processing operation name: {}'.format(response.operation.name))\n",
        "    # synchronous check of operation status\n",
        "    result = response.result()\n",
        "    print('Processing done.')\n",
        "\n",
        "    for i, status in enumerate(result.statuses):\n",
        "        print('Status of processing line {} of the csv: {}'.format(\n",
        "            i, status))\n",
        "        # Check the status of reference image\n",
        "        # `0` is the code for OK in google.rpc.Code.\n",
        "        if status.code == 0:\n",
        "            reference_image = result.reference_images[i]\n",
        "            print(reference_image)\n",
        "        else:\n",
        "            print('Status code not OK: {}'.format(status.message))"
      ],
      "execution_count": 4,
      "outputs": []
    },
    {
      "cell_type": "code",
      "metadata": {
        "id": "wpTHKFpb1EwK"
      },
      "source": [
        "#import_product_sets('cvproductsearch', 'us-west1', 'gs://cvproducts/products.csv')"
      ],
      "execution_count": 5,
      "outputs": []
    },
    {
      "cell_type": "markdown",
      "metadata": {
        "id": "GHvNJaX01VRT"
      },
      "source": [
        "# 7. List products in a product set"
      ]
    },
    {
      "cell_type": "code",
      "metadata": {
        "id": "q0SPTx5U1IG6"
      },
      "source": [
        "def list_products_in_product_set(\n",
        "        project_id, location, product_set_id):\n",
        "    \"\"\"List all products in a product set.\n",
        "    Args:\n",
        "        project_id: Id of the project.\n",
        "        location: A compute region name.\n",
        "        product_set_id: Id of the product set.\n",
        "    \"\"\"\n",
        "    client = vision.ProductSearchClient()\n",
        "\n",
        "    # Get the full path of the product set.\n",
        "    product_set_path = client.product_set_path(\n",
        "        project=project_id, location=location,\n",
        "        product_set=product_set_id)\n",
        "\n",
        "    # List all the products available in the product set.\n",
        "    products = client.list_products_in_product_set(name=product_set_path)\n",
        "\n",
        "    # Display the product information.\n",
        "    for product in products:\n",
        "        print('Product name: {}'.format(product.name))\n",
        "        print('Product id: {}'.format(product.name.split('/')[-1]))\n",
        "        print('Product display name: {}'.format(product.display_name))\n",
        "        print('Product description: {}'.format(product.description))\n",
        "        print('Product category: {}'.format(product.product_category))\n",
        "        print('Product labels: {}'.format(product.product_labels))"
      ],
      "execution_count": 6,
      "outputs": []
    },
    {
      "cell_type": "code",
      "metadata": {
        "colab": {
          "base_uri": "https://localhost:8080/"
        },
        "id": "kHpOb3XR1aQS",
        "outputId": "3e2d3357-deb8-46c1-913b-57c579eba2ef"
      },
      "source": [
        "list_products_in_product_set(project_id='cvproductsearch', location='us-west1', product_set_id='smartdevices')"
      ],
      "execution_count": 8,
      "outputs": [
        {
          "output_type": "stream",
          "name": "stdout",
          "text": [
            "Product name: projects/cvproductsearch/locations/us-west1/products/airpods_2\n",
            "Product id: airpods_2\n",
            "Product display name: Airpods 2\n",
            "Product description: \n",
            "Product category: general-v1\n",
            "Product labels: []\n",
            "Product name: projects/cvproductsearch/locations/us-west1/products/apple_watch_series_3\n",
            "Product id: apple_watch_series_3\n",
            "Product display name: Apple Watch Series 3\n",
            "Product description: \n",
            "Product category: general-v1\n",
            "Product labels: []\n",
            "Product name: projects/cvproductsearch/locations/us-west1/products/apple_watch_series_4\n",
            "Product id: apple_watch_series_4\n",
            "Product display name: Apple Watch Series 4\n",
            "Product description: \n",
            "Product category: general-v1\n",
            "Product labels: []\n",
            "Product name: projects/cvproductsearch/locations/us-west1/products/apple_watch_series_5\n",
            "Product id: apple_watch_series_5\n",
            "Product display name: Apple Watch Series 5\n",
            "Product description: \n",
            "Product category: general-v1\n",
            "Product labels: []\n",
            "Product name: projects/cvproductsearch/locations/us-west1/products/apple_watch_series_6\n",
            "Product id: apple_watch_series_6\n",
            "Product display name: Apple Watch Series 6\n",
            "Product description: \n",
            "Product category: general-v1\n",
            "Product labels: []\n",
            "Product name: projects/cvproductsearch/locations/us-west1/products/deco_m9\n",
            "Product id: deco_m9\n",
            "Product display name: Deco M9\n",
            "Product description: \n",
            "Product category: general-v1\n",
            "Product labels: []\n",
            "Product name: projects/cvproductsearch/locations/us-west1/products/echo_2\n",
            "Product id: echo_2\n",
            "Product display name: Echo 2\n",
            "Product description: \n",
            "Product category: general-v1\n",
            "Product labels: []\n",
            "Product name: projects/cvproductsearch/locations/us-west1/products/echo_dot_3\n",
            "Product id: echo_dot_3\n",
            "Product display name: Echo Dot 3\n",
            "Product description: \n",
            "Product category: general-v1\n",
            "Product labels: []\n",
            "Product name: projects/cvproductsearch/locations/us-west1/products/echo_dot_4\n",
            "Product id: echo_dot_4\n",
            "Product display name: Echo Dot 4\n",
            "Product description: \n",
            "Product category: general-v1\n",
            "Product labels: []\n",
            "Product name: projects/cvproductsearch/locations/us-west1/products/galaxy_s10\n",
            "Product id: galaxy_s10\n",
            "Product display name: Galaxy S10\n",
            "Product description: \n",
            "Product category: general-v1\n",
            "Product labels: []\n",
            "Product name: projects/cvproductsearch/locations/us-west1/products/galaxy_s20\n",
            "Product id: galaxy_s20\n",
            "Product display name: Galaxy S20\n",
            "Product description: \n",
            "Product category: general-v1\n",
            "Product labels: []\n",
            "Product name: projects/cvproductsearch/locations/us-west1/products/galaxy_s20_plus_5g\n",
            "Product id: galaxy_s20_plus_5g\n",
            "Product display name: Galaxy S20+ 5G\n",
            "Product description: \n",
            "Product category: general-v1\n",
            "Product labels: []\n",
            "Product name: projects/cvproductsearch/locations/us-west1/products/galaxy_s20_ultra_5g\n",
            "Product id: galaxy_s20_ultra_5g\n",
            "Product display name: Galaxy S20 Ultra 5G\n",
            "Product description: \n",
            "Product category: general-v1\n",
            "Product labels: []\n",
            "Product name: projects/cvproductsearch/locations/us-west1/products/galaxy_s21_5g\n",
            "Product id: galaxy_s21_5g\n",
            "Product display name: Galaxy S21 5G\n",
            "Product description: \n",
            "Product category: general-v1\n",
            "Product labels: []\n",
            "Product name: projects/cvproductsearch/locations/us-west1/products/galaxy_s21_plus_5g\n",
            "Product id: galaxy_s21_plus_5g\n",
            "Product display name: Galaxy S21+ 5G\n",
            "Product description: \n",
            "Product category: general-v1\n",
            "Product labels: []\n",
            "Product name: projects/cvproductsearch/locations/us-west1/products/galaxy_s21_ultra_5g\n",
            "Product id: galaxy_s21_ultra_5g\n",
            "Product display name: Galaxy S21 Ultra 5G\n",
            "Product description: \n",
            "Product category: general-v1\n",
            "Product labels: []\n",
            "Product name: projects/cvproductsearch/locations/us-west1/products/iphone_11\n",
            "Product id: iphone_11\n",
            "Product display name: iPhone 11\n",
            "Product description: \n",
            "Product category: general-v1\n",
            "Product labels: []\n",
            "Product name: projects/cvproductsearch/locations/us-west1/products/iphone_11_pro\n",
            "Product id: iphone_11_pro\n",
            "Product display name: iPhone 11 Pro\n",
            "Product description: \n",
            "Product category: general-v1\n",
            "Product labels: []\n",
            "Product name: projects/cvproductsearch/locations/us-west1/products/iphone_11_pro_max\n",
            "Product id: iphone_11_pro_max\n",
            "Product display name: iPhone 11 Pro Max\n",
            "Product description: \n",
            "Product category: general-v1\n",
            "Product labels: []\n",
            "Product name: projects/cvproductsearch/locations/us-west1/products/iphone_12\n",
            "Product id: iphone_12\n",
            "Product display name: iPhone 12\n",
            "Product description: \n",
            "Product category: general-v1\n",
            "Product labels: []\n",
            "Product name: projects/cvproductsearch/locations/us-west1/products/iphone_12_mini\n",
            "Product id: iphone_12_mini\n",
            "Product display name: iPhone 12 mini\n",
            "Product description: \n",
            "Product category: general-v1\n",
            "Product labels: []\n",
            "Product name: projects/cvproductsearch/locations/us-west1/products/iphone_12_pro\n",
            "Product id: iphone_12_pro\n",
            "Product display name: iPhone 12 Pro\n",
            "Product description: \n",
            "Product category: general-v1\n",
            "Product labels: []\n",
            "Product name: projects/cvproductsearch/locations/us-west1/products/iphone_12_pro_max\n",
            "Product id: iphone_12_pro_max\n",
            "Product display name: iPhone 12 Pro Max\n",
            "Product description: \n",
            "Product category: general-v1\n",
            "Product labels: []\n",
            "Product name: projects/cvproductsearch/locations/us-west1/products/iphone_13\n",
            "Product id: iphone_13\n",
            "Product display name: iPhone 13\n",
            "Product description: \n",
            "Product category: general-v1\n",
            "Product labels: []\n",
            "Product name: projects/cvproductsearch/locations/us-west1/products/iphone_13_mini\n",
            "Product id: iphone_13_mini\n",
            "Product display name: iPhone 13 mini\n",
            "Product description: \n",
            "Product category: general-v1\n",
            "Product labels: []\n",
            "Product name: projects/cvproductsearch/locations/us-west1/products/iphone_13_pro\n",
            "Product id: iphone_13_pro\n",
            "Product display name: iPhone 13 Pro\n",
            "Product description: \n",
            "Product category: general-v1\n",
            "Product labels: []\n",
            "Product name: projects/cvproductsearch/locations/us-west1/products/iphone_13_pro_max\n",
            "Product id: iphone_13_pro_max\n",
            "Product display name: iPhone 13 Pro Max\n",
            "Product description: \n",
            "Product category: general-v1\n",
            "Product labels: []\n",
            "Product name: projects/cvproductsearch/locations/us-west1/products/iphone_6s\n",
            "Product id: iphone_6s\n",
            "Product display name: iPhone 6s\n",
            "Product description: \n",
            "Product category: general-v1\n",
            "Product labels: []\n",
            "Product name: projects/cvproductsearch/locations/us-west1/products/iphone_6s_plus\n",
            "Product id: iphone_6s_plus\n",
            "Product display name: iPhone 6s Plus\n",
            "Product description: \n",
            "Product category: general-v1\n",
            "Product labels: []\n",
            "Product name: projects/cvproductsearch/locations/us-west1/products/iphone_7\n",
            "Product id: iphone_7\n",
            "Product display name: iPhone 7\n",
            "Product description: \n",
            "Product category: general-v1\n",
            "Product labels: []\n",
            "Product name: projects/cvproductsearch/locations/us-west1/products/iphone_7_plus\n",
            "Product id: iphone_7_plus\n",
            "Product display name: iPhone 7 Plus\n",
            "Product description: \n",
            "Product category: general-v1\n",
            "Product labels: []\n",
            "Product name: projects/cvproductsearch/locations/us-west1/products/iphone_8\n",
            "Product id: iphone_8\n",
            "Product display name: iPhone 8\n",
            "Product description: \n",
            "Product category: general-v1\n",
            "Product labels: []\n",
            "Product name: projects/cvproductsearch/locations/us-west1/products/iphone_8_plus\n",
            "Product id: iphone_8_plus\n",
            "Product display name: iPhone 8 Plus\n",
            "Product description: \n",
            "Product category: general-v1\n",
            "Product labels: []\n",
            "Product name: projects/cvproductsearch/locations/us-west1/products/iphone_x\n",
            "Product id: iphone_x\n",
            "Product display name: iPhone X\n",
            "Product description: \n",
            "Product category: general-v1\n",
            "Product labels: []\n",
            "Product name: projects/cvproductsearch/locations/us-west1/products/iphone_xr\n",
            "Product id: iphone_xr\n",
            "Product display name: iPhone XR\n",
            "Product description: \n",
            "Product category: general-v1\n",
            "Product labels: []\n",
            "Product name: projects/cvproductsearch/locations/us-west1/products/iphone_xs\n",
            "Product id: iphone_xs\n",
            "Product display name: iPhone XS\n",
            "Product description: \n",
            "Product category: general-v1\n",
            "Product labels: []\n",
            "Product name: projects/cvproductsearch/locations/us-west1/products/mac_mini_2020\n",
            "Product id: mac_mini_2020\n",
            "Product display name: Mac Mini 2020\n",
            "Product description: \n",
            "Product category: general-v1\n",
            "Product labels: []\n",
            "Product name: projects/cvproductsearch/locations/us-west1/products/macbook_pro_13_2020\n",
            "Product id: macbook_pro_13_2020\n",
            "Product display name: Macbook Pro 13 2020\n",
            "Product description: \n",
            "Product category: general-v1\n",
            "Product labels: []\n",
            "Product name: projects/cvproductsearch/locations/us-west1/products/macbook_pro_16\n",
            "Product id: macbook_pro_16\n",
            "Product display name: Macbook Pro 16\n",
            "Product description: \n",
            "Product category: general-v1\n",
            "Product labels: []\n",
            "Product name: projects/cvproductsearch/locations/us-west1/products/magic_keyboard\n",
            "Product id: magic_keyboard\n",
            "Product display name: Magic Keyboard\n",
            "Product description: \n",
            "Product category: general-v1\n",
            "Product labels: []\n",
            "Product name: projects/cvproductsearch/locations/us-west1/products/magic_mouse\n",
            "Product id: magic_mouse\n",
            "Product display name: Magic Mouse\n",
            "Product description: \n",
            "Product category: general-v1\n",
            "Product labels: []\n",
            "Product name: projects/cvproductsearch/locations/us-west1/products/nest_cam_floodlight\n",
            "Product id: nest_cam_floodlight\n",
            "Product display name: Nest Cam Floodlight\n",
            "Product description: \n",
            "Product category: general-v1\n",
            "Product labels: []\n",
            "Product name: projects/cvproductsearch/locations/us-west1/products/nest_cam_indoor\n",
            "Product id: nest_cam_indoor\n",
            "Product display name: Nest Cam Indoor\n",
            "Product description: \n",
            "Product category: general-v1\n",
            "Product labels: []\n",
            "Product name: projects/cvproductsearch/locations/us-west1/products/nest_cam_outdoor\n",
            "Product id: nest_cam_outdoor\n",
            "Product display name: Nest Cam Outdoor\n",
            "Product description: \n",
            "Product category: general-v1\n",
            "Product labels: []\n",
            "Product name: projects/cvproductsearch/locations/us-west1/products/nest_doorbell_battery\n",
            "Product id: nest_doorbell_battery\n",
            "Product display name: Nest Doorbell Battery\n",
            "Product description: \n",
            "Product category: general-v1\n",
            "Product labels: []\n",
            "Product name: projects/cvproductsearch/locations/us-west1/products/nest_doorbell_wired\n",
            "Product id: nest_doorbell_wired\n",
            "Product display name: Nest Doorbell Wired\n",
            "Product description: \n",
            "Product category: general-v1\n",
            "Product labels: []\n",
            "Product name: projects/cvproductsearch/locations/us-west1/products/nest_learning_thermostat\n",
            "Product id: nest_learning_thermostat\n",
            "Product display name: Nest Learning Thermostat\n",
            "Product description: \n",
            "Product category: general-v1\n",
            "Product labels: []\n",
            "Product name: projects/cvproductsearch/locations/us-west1/products/nest_mini\n",
            "Product id: nest_mini\n",
            "Product display name: Nest Mini\n",
            "Product description: \n",
            "Product category: general-v1\n",
            "Product labels: []\n",
            "Product name: projects/cvproductsearch/locations/us-west1/products/nest_thermostat\n",
            "Product id: nest_thermostat\n",
            "Product display name: Nest Thermostat\n",
            "Product description: \n",
            "Product category: general-v1\n",
            "Product labels: []\n",
            "Product name: projects/cvproductsearch/locations/us-west1/products/roku_ultra\n",
            "Product id: roku_ultra\n",
            "Product display name: Roku Ultra\n",
            "Product description: \n",
            "Product category: general-v1\n",
            "Product labels: []\n"
          ]
        }
      ]
    },
    {
      "cell_type": "markdown",
      "metadata": {
        "id": "gONIX9vR14KH"
      },
      "source": [
        "# 8. Delete a product set"
      ]
    },
    {
      "cell_type": "code",
      "metadata": {
        "id": "yfmJj7Vt1oYO"
      },
      "source": [
        "def delete_product_set(project_id, location, product_set_id):\n",
        "    \"\"\"Delete a product set.\n",
        "    Args:\n",
        "        project_id: Id of the project.\n",
        "        location: A compute region name.\n",
        "        product_set_id: Id of the product set.\n",
        "    \"\"\"\n",
        "    client = vision.ProductSearchClient()\n",
        "\n",
        "    # Get the full path of the product set.\n",
        "    product_set_path = client.product_set_path(\n",
        "        project=project_id, location=location,\n",
        "        product_set=product_set_id)\n",
        "\n",
        "    # Delete the product set.\n",
        "    client.delete_product_set(name=product_set_path)\n",
        "    print('Product set deleted.')"
      ],
      "execution_count": 9,
      "outputs": []
    },
    {
      "cell_type": "code",
      "metadata": {
        "id": "s_MNNs9n18jg"
      },
      "source": [
        "# delete_product_set(\"cvproductsearch\",\"us-west1\",\"smartdevices\")"
      ],
      "execution_count": 10,
      "outputs": []
    }
  ]
}